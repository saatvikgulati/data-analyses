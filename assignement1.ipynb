{
 "cells": [
  {
   "cell_type": "code",
   "execution_count": 1,
   "metadata": {},
   "outputs": [],
   "source": [
    "import pandas as pd"
   ]
  },
  {
   "cell_type": "code",
   "execution_count": 4,
   "metadata": {},
   "outputs": [],
   "source": [
    "df= pd.read_parquet('data/employees.parquet')"
   ]
  },
  {
   "cell_type": "code",
   "execution_count": 5,
   "metadata": {},
   "outputs": [
    {
     "data": {
      "text/html": [
       "<div>\n",
       "<style scoped>\n",
       "    .dataframe tbody tr th:only-of-type {\n",
       "        vertical-align: middle;\n",
       "    }\n",
       "\n",
       "    .dataframe tbody tr th {\n",
       "        vertical-align: top;\n",
       "    }\n",
       "\n",
       "    .dataframe thead th {\n",
       "        text-align: right;\n",
       "    }\n",
       "</style>\n",
       "<table border=\"1\" class=\"dataframe\">\n",
       "  <thead>\n",
       "    <tr style=\"text-align: right;\">\n",
       "      <th></th>\n",
       "      <th>id</th>\n",
       "      <th>name</th>\n",
       "      <th>gender</th>\n",
       "      <th>doj</th>\n",
       "      <th>salaries</th>\n",
       "      <th>positions</th>\n",
       "    </tr>\n",
       "  </thead>\n",
       "  <tbody>\n",
       "    <tr>\n",
       "      <th>0</th>\n",
       "      <td>51</td>\n",
       "      <td>Valerie Herrera</td>\n",
       "      <td>Female</td>\n",
       "      <td>2019-07-05</td>\n",
       "      <td>178942</td>\n",
       "      <td>HR Specialist</td>\n",
       "    </tr>\n",
       "  </tbody>\n",
       "</table>\n",
       "</div>"
      ],
      "text/plain": [
       "   id             name  gender         doj  salaries      positions\n",
       "0  51  Valerie Herrera  Female  2019-07-05    178942  HR Specialist"
      ]
     },
     "execution_count": 5,
     "metadata": {},
     "output_type": "execute_result"
    }
   ],
   "source": [
    "df.head()"
   ]
  },
  {
   "cell_type": "code",
   "execution_count": 4,
   "metadata": {},
   "outputs": [],
   "source": [
    "df.rename(columns = {'Date of Joining':'doj'},inplace=True)"
   ]
  },
  {
   "cell_type": "code",
   "execution_count": 5,
   "metadata": {},
   "outputs": [
    {
     "data": {
      "text/plain": [
       "np.int64(249999)"
      ]
     },
     "execution_count": 5,
     "metadata": {},
     "output_type": "execute_result"
    }
   ],
   "source": [
    "# max salary of manager\n",
    "df[df['Position'] == 'Manager']['Salary'].max()"
   ]
  },
  {
   "cell_type": "code",
   "execution_count": 6,
   "metadata": {},
   "outputs": [
    {
     "data": {
      "text/plain": [
       "Position\n",
       "Analyst              249998\n",
       "Designer             249999\n",
       "HR Specialist        249999\n",
       "Manager              249999\n",
       "Software Engineer    249999\n",
       "Name: Salary, dtype: int64"
      ]
     },
     "execution_count": 6,
     "metadata": {},
     "output_type": "execute_result"
    }
   ],
   "source": [
    "# get max salaries of all positions in the dataset\n",
    "df[['Position','Salary']].groupby('Position')['Salary'].max()\n"
   ]
  },
  {
   "cell_type": "code",
   "execution_count": 7,
   "metadata": {},
   "outputs": [
    {
     "data": {
      "text/html": [
       "<div>\n",
       "<style scoped>\n",
       "    .dataframe tbody tr th:only-of-type {\n",
       "        vertical-align: middle;\n",
       "    }\n",
       "\n",
       "    .dataframe tbody tr th {\n",
       "        vertical-align: top;\n",
       "    }\n",
       "\n",
       "    .dataframe thead th {\n",
       "        text-align: right;\n",
       "    }\n",
       "</style>\n",
       "<table border=\"1\" class=\"dataframe\">\n",
       "  <thead>\n",
       "    <tr style=\"text-align: right;\">\n",
       "      <th></th>\n",
       "      <th>Salary</th>\n",
       "    </tr>\n",
       "    <tr>\n",
       "      <th>Position</th>\n",
       "      <th></th>\n",
       "    </tr>\n",
       "  </thead>\n",
       "  <tbody>\n",
       "    <tr>\n",
       "      <th>Analyst</th>\n",
       "      <td>249998</td>\n",
       "    </tr>\n",
       "    <tr>\n",
       "      <th>Designer</th>\n",
       "      <td>249999</td>\n",
       "    </tr>\n",
       "    <tr>\n",
       "      <th>HR Specialist</th>\n",
       "      <td>249999</td>\n",
       "    </tr>\n",
       "    <tr>\n",
       "      <th>Manager</th>\n",
       "      <td>249999</td>\n",
       "    </tr>\n",
       "    <tr>\n",
       "      <th>Software Engineer</th>\n",
       "      <td>249999</td>\n",
       "    </tr>\n",
       "  </tbody>\n",
       "</table>\n",
       "</div>"
      ],
      "text/plain": [
       "                   Salary\n",
       "Position                 \n",
       "Analyst            249998\n",
       "Designer           249999\n",
       "HR Specialist      249999\n",
       "Manager            249999\n",
       "Software Engineer  249999"
      ]
     },
     "execution_count": 7,
     "metadata": {},
     "output_type": "execute_result"
    }
   ],
   "source": [
    "df.groupby('Position').agg({'Salary':'max'})"
   ]
  },
  {
   "cell_type": "code",
   "execution_count": 8,
   "metadata": {},
   "outputs": [
    {
     "data": {
      "text/plain": [
       "Gender\n",
       "Male      500007\n",
       "Female    499993\n",
       "Name: count, dtype: int64"
      ]
     },
     "execution_count": 8,
     "metadata": {},
     "output_type": "execute_result"
    }
   ],
   "source": [
    "# get the gender ratio of the dataset\n",
    "df['Gender'].value_counts()"
   ]
  },
  {
   "cell_type": "code",
   "execution_count": 9,
   "metadata": {},
   "outputs": [
    {
     "data": {
      "text/plain": [
       "Position\n",
       "Software Engineer    200502\n",
       "Manager              200188\n",
       "Designer             200129\n",
       "Analyst              200120\n",
       "HR Specialist        199061\n",
       "Name: count, dtype: int64"
      ]
     },
     "execution_count": 9,
     "metadata": {},
     "output_type": "execute_result"
    }
   ],
   "source": [
    "# get ratio of positions\n",
    "df['Position'].value_counts()"
   ]
  },
  {
   "cell_type": "code",
   "execution_count": 16,
   "metadata": {},
   "outputs": [],
   "source": [
    "df['doj'] = pd.to_datetime(df['doj'])"
   ]
  },
  {
   "cell_type": "code",
   "execution_count": 11,
   "metadata": {},
   "outputs": [],
   "source": [
    "# in which year were there maximum joinees\n",
    "df['year'] = pd.to_datetime(df['doj'],format = '%Y-%m-%d',errors='coerce').dt.year"
   ]
  },
  {
   "cell_type": "code",
   "execution_count": 12,
   "metadata": {},
   "outputs": [
    {
     "data": {
      "text/html": [
       "<div>\n",
       "<style scoped>\n",
       "    .dataframe tbody tr th:only-of-type {\n",
       "        vertical-align: middle;\n",
       "    }\n",
       "\n",
       "    .dataframe tbody tr th {\n",
       "        vertical-align: top;\n",
       "    }\n",
       "\n",
       "    .dataframe thead th {\n",
       "        text-align: right;\n",
       "    }\n",
       "</style>\n",
       "<table border=\"1\" class=\"dataframe\">\n",
       "  <thead>\n",
       "    <tr style=\"text-align: right;\">\n",
       "      <th></th>\n",
       "      <th>Employee ID</th>\n",
       "      <th>Name</th>\n",
       "      <th>Gender</th>\n",
       "      <th>doj</th>\n",
       "      <th>Salary</th>\n",
       "      <th>Position</th>\n",
       "      <th>year</th>\n",
       "    </tr>\n",
       "  </thead>\n",
       "  <tbody>\n",
       "    <tr>\n",
       "      <th>0</th>\n",
       "      <td>1</td>\n",
       "      <td>Sam</td>\n",
       "      <td>Male</td>\n",
       "      <td>2024-03-27</td>\n",
       "      <td>162240</td>\n",
       "      <td>Software Engineer</td>\n",
       "      <td>2024</td>\n",
       "    </tr>\n",
       "    <tr>\n",
       "      <th>1</th>\n",
       "      <td>2</td>\n",
       "      <td>Raj</td>\n",
       "      <td>Female</td>\n",
       "      <td>2020-05-13</td>\n",
       "      <td>208610</td>\n",
       "      <td>HR Specialist</td>\n",
       "      <td>2020</td>\n",
       "    </tr>\n",
       "    <tr>\n",
       "      <th>2</th>\n",
       "      <td>3</td>\n",
       "      <td>Shyam</td>\n",
       "      <td>Male</td>\n",
       "      <td>2023-02-12</td>\n",
       "      <td>223557</td>\n",
       "      <td>Analyst</td>\n",
       "      <td>2023</td>\n",
       "    </tr>\n",
       "    <tr>\n",
       "      <th>3</th>\n",
       "      <td>4</td>\n",
       "      <td>Sam</td>\n",
       "      <td>Male</td>\n",
       "      <td>2020-12-14</td>\n",
       "      <td>114925</td>\n",
       "      <td>Manager</td>\n",
       "      <td>2020</td>\n",
       "    </tr>\n",
       "    <tr>\n",
       "      <th>4</th>\n",
       "      <td>5</td>\n",
       "      <td>Sam</td>\n",
       "      <td>Male</td>\n",
       "      <td>2022-01-28</td>\n",
       "      <td>227934</td>\n",
       "      <td>HR Specialist</td>\n",
       "      <td>2022</td>\n",
       "    </tr>\n",
       "  </tbody>\n",
       "</table>\n",
       "</div>"
      ],
      "text/plain": [
       "   Employee ID   Name  Gender         doj  Salary           Position  year\n",
       "0            1    Sam    Male  2024-03-27  162240  Software Engineer  2024\n",
       "1            2    Raj  Female  2020-05-13  208610      HR Specialist  2020\n",
       "2            3  Shyam    Male  2023-02-12  223557            Analyst  2023\n",
       "3            4    Sam    Male  2020-12-14  114925            Manager  2020\n",
       "4            5    Sam    Male  2022-01-28  227934      HR Specialist  2022"
      ]
     },
     "execution_count": 12,
     "metadata": {},
     "output_type": "execute_result"
    }
   ],
   "source": [
    "df.head()"
   ]
  },
  {
   "cell_type": "code",
   "execution_count": 13,
   "metadata": {},
   "outputs": [
    {
     "data": {
      "text/html": [
       "<div>\n",
       "<style scoped>\n",
       "    .dataframe tbody tr th:only-of-type {\n",
       "        vertical-align: middle;\n",
       "    }\n",
       "\n",
       "    .dataframe tbody tr th {\n",
       "        vertical-align: top;\n",
       "    }\n",
       "\n",
       "    .dataframe thead th {\n",
       "        text-align: right;\n",
       "    }\n",
       "</style>\n",
       "<table border=\"1\" class=\"dataframe\">\n",
       "  <thead>\n",
       "    <tr style=\"text-align: right;\">\n",
       "      <th></th>\n",
       "      <th>year</th>\n",
       "      <th>doj</th>\n",
       "    </tr>\n",
       "  </thead>\n",
       "  <tbody>\n",
       "    <tr>\n",
       "      <th>0</th>\n",
       "      <td>2015</td>\n",
       "      <td>102093</td>\n",
       "    </tr>\n",
       "    <tr>\n",
       "      <th>1</th>\n",
       "      <td>2019</td>\n",
       "      <td>102060</td>\n",
       "    </tr>\n",
       "    <tr>\n",
       "      <th>2</th>\n",
       "      <td>2020</td>\n",
       "      <td>101950</td>\n",
       "    </tr>\n",
       "    <tr>\n",
       "      <th>3</th>\n",
       "      <td>2023</td>\n",
       "      <td>101901</td>\n",
       "    </tr>\n",
       "    <tr>\n",
       "      <th>4</th>\n",
       "      <td>2018</td>\n",
       "      <td>101751</td>\n",
       "    </tr>\n",
       "    <tr>\n",
       "      <th>5</th>\n",
       "      <td>2017</td>\n",
       "      <td>101634</td>\n",
       "    </tr>\n",
       "    <tr>\n",
       "      <th>6</th>\n",
       "      <td>2021</td>\n",
       "      <td>101424</td>\n",
       "    </tr>\n",
       "    <tr>\n",
       "      <th>7</th>\n",
       "      <td>2022</td>\n",
       "      <td>101311</td>\n",
       "    </tr>\n",
       "    <tr>\n",
       "      <th>8</th>\n",
       "      <td>2016</td>\n",
       "      <td>101201</td>\n",
       "    </tr>\n",
       "    <tr>\n",
       "      <th>9</th>\n",
       "      <td>2024</td>\n",
       "      <td>75039</td>\n",
       "    </tr>\n",
       "    <tr>\n",
       "      <th>10</th>\n",
       "      <td>2014</td>\n",
       "      <td>9636</td>\n",
       "    </tr>\n",
       "  </tbody>\n",
       "</table>\n",
       "</div>"
      ],
      "text/plain": [
       "    year     doj\n",
       "0   2015  102093\n",
       "1   2019  102060\n",
       "2   2020  101950\n",
       "3   2023  101901\n",
       "4   2018  101751\n",
       "5   2017  101634\n",
       "6   2021  101424\n",
       "7   2022  101311\n",
       "8   2016  101201\n",
       "9   2024   75039\n",
       "10  2014    9636"
      ]
     },
     "execution_count": 13,
     "metadata": {},
     "output_type": "execute_result"
    }
   ],
   "source": [
    "df.groupby('year').agg({'doj':'count'}).sort_values(ascending = False,by = 'doj').reset_index()\n",
    "# in year 2021 had max no of joinees"
   ]
  },
  {
   "cell_type": "code",
   "execution_count": null,
   "metadata": {},
   "outputs": [],
   "source": [
    "# in which month of year 2021 did max joinees occur\n",
    "# give 20% raise to all Managers, 15% raise to all Hr specilists, 25% raise to software engineers\n",
    "# year in which max female joinees occured\n",
    "# year in which max male employees occured\n",
    "# create a new column years in service"
   ]
  },
  {
   "cell_type": "code",
   "execution_count": 17,
   "metadata": {},
   "outputs": [],
   "source": [
    "df_2021=df[df['doj'].dt.year == 2021]"
   ]
  },
  {
   "cell_type": "code",
   "execution_count": 19,
   "metadata": {},
   "outputs": [
    {
     "name": "stderr",
     "output_type": "stream",
     "text": [
      "/tmp/ipykernel_78537/3856632438.py:1: SettingWithCopyWarning: \n",
      "A value is trying to be set on a copy of a slice from a DataFrame.\n",
      "Try using .loc[row_indexer,col_indexer] = value instead\n",
      "\n",
      "See the caveats in the documentation: https://pandas.pydata.org/pandas-docs/stable/user_guide/indexing.html#returning-a-view-versus-a-copy\n",
      "  df_2021['year_month'] = df_2021['doj'].dt.to_period('M')\n"
     ]
    }
   ],
   "source": [
    "df_2021['year_month'] = df_2021['doj'].dt.to_period('M')"
   ]
  },
  {
   "cell_type": "code",
   "execution_count": 20,
   "metadata": {},
   "outputs": [
    {
     "data": {
      "text/html": [
       "<div>\n",
       "<style scoped>\n",
       "    .dataframe tbody tr th:only-of-type {\n",
       "        vertical-align: middle;\n",
       "    }\n",
       "\n",
       "    .dataframe tbody tr th {\n",
       "        vertical-align: top;\n",
       "    }\n",
       "\n",
       "    .dataframe thead th {\n",
       "        text-align: right;\n",
       "    }\n",
       "</style>\n",
       "<table border=\"1\" class=\"dataframe\">\n",
       "  <thead>\n",
       "    <tr style=\"text-align: right;\">\n",
       "      <th></th>\n",
       "      <th>Employee ID</th>\n",
       "      <th>Name</th>\n",
       "      <th>Gender</th>\n",
       "      <th>doj</th>\n",
       "      <th>Salary</th>\n",
       "      <th>Position</th>\n",
       "      <th>year</th>\n",
       "      <th>year_month</th>\n",
       "    </tr>\n",
       "  </thead>\n",
       "  <tbody>\n",
       "    <tr>\n",
       "      <th>5</th>\n",
       "      <td>6</td>\n",
       "      <td>Sam</td>\n",
       "      <td>Female</td>\n",
       "      <td>2021-11-10</td>\n",
       "      <td>60690</td>\n",
       "      <td>Manager</td>\n",
       "      <td>2021</td>\n",
       "      <td>2021-11</td>\n",
       "    </tr>\n",
       "    <tr>\n",
       "      <th>9</th>\n",
       "      <td>10</td>\n",
       "      <td>Raj</td>\n",
       "      <td>Male</td>\n",
       "      <td>2021-01-01</td>\n",
       "      <td>187606</td>\n",
       "      <td>Software Engineer</td>\n",
       "      <td>2021</td>\n",
       "      <td>2021-01</td>\n",
       "    </tr>\n",
       "    <tr>\n",
       "      <th>29</th>\n",
       "      <td>30</td>\n",
       "      <td>Harshal</td>\n",
       "      <td>Male</td>\n",
       "      <td>2021-12-09</td>\n",
       "      <td>205703</td>\n",
       "      <td>Software Engineer</td>\n",
       "      <td>2021</td>\n",
       "      <td>2021-12</td>\n",
       "    </tr>\n",
       "    <tr>\n",
       "      <th>46</th>\n",
       "      <td>47</td>\n",
       "      <td>Sam</td>\n",
       "      <td>Male</td>\n",
       "      <td>2021-04-16</td>\n",
       "      <td>167143</td>\n",
       "      <td>Designer</td>\n",
       "      <td>2021</td>\n",
       "      <td>2021-04</td>\n",
       "    </tr>\n",
       "    <tr>\n",
       "      <th>50</th>\n",
       "      <td>51</td>\n",
       "      <td>Shyam</td>\n",
       "      <td>Female</td>\n",
       "      <td>2021-12-14</td>\n",
       "      <td>125667</td>\n",
       "      <td>Analyst</td>\n",
       "      <td>2021</td>\n",
       "      <td>2021-12</td>\n",
       "    </tr>\n",
       "  </tbody>\n",
       "</table>\n",
       "</div>"
      ],
      "text/plain": [
       "    Employee ID     Name  Gender        doj  Salary           Position  year  \\\n",
       "5             6      Sam  Female 2021-11-10   60690            Manager  2021   \n",
       "9            10      Raj    Male 2021-01-01  187606  Software Engineer  2021   \n",
       "29           30  Harshal    Male 2021-12-09  205703  Software Engineer  2021   \n",
       "46           47      Sam    Male 2021-04-16  167143           Designer  2021   \n",
       "50           51    Shyam  Female 2021-12-14  125667            Analyst  2021   \n",
       "\n",
       "   year_month  \n",
       "5     2021-11  \n",
       "9     2021-01  \n",
       "29    2021-12  \n",
       "46    2021-04  \n",
       "50    2021-12  "
      ]
     },
     "execution_count": 20,
     "metadata": {},
     "output_type": "execute_result"
    }
   ],
   "source": [
    "df_2021.head()"
   ]
  },
  {
   "cell_type": "code",
   "execution_count": 21,
   "metadata": {},
   "outputs": [],
   "source": [
    "joiners_per_month = df_2021['year_month'].value_counts().sort_index()"
   ]
  },
  {
   "cell_type": "code",
   "execution_count": 26,
   "metadata": {},
   "outputs": [],
   "source": [
    "max_joiners_month = joiners_per_month.idxmax()\n",
    "max_joiners_count = joiners_per_month.max()\n",
    "max_joiners_month_name = max_joiners_month.strftime('%B') "
   ]
  },
  {
   "cell_type": "code",
   "execution_count": 27,
   "metadata": {},
   "outputs": [
    {
     "name": "stdout",
     "output_type": "stream",
     "text": [
      "The month with the maximum joiners in 2021 is August with 8702 joiners.\n"
     ]
    }
   ],
   "source": [
    "print(f\"The month with the maximum joiners in 2021 is {max_joiners_month_name} with {max_joiners_count} joiners.\")"
   ]
  },
  {
   "cell_type": "code",
   "execution_count": 28,
   "metadata": {},
   "outputs": [
    {
     "name": "stderr",
     "output_type": "stream",
     "text": [
      "/tmp/ipykernel_78537/748732621.py:1: FutureWarning: Setting an item of incompatible dtype is deprecated and will raise an error in a future version of pandas. Value '[137910.   72828.  206184.  ...  78766.8 152712.   52930.8]' has dtype incompatible with int64, please explicitly cast to a compatible dtype first.\n",
      "  df.loc[df['Position'] == 'Manager', 'Salary'] *= 1.20\n"
     ]
    },
    {
     "data": {
      "text/html": [
       "<div>\n",
       "<style scoped>\n",
       "    .dataframe tbody tr th:only-of-type {\n",
       "        vertical-align: middle;\n",
       "    }\n",
       "\n",
       "    .dataframe tbody tr th {\n",
       "        vertical-align: top;\n",
       "    }\n",
       "\n",
       "    .dataframe thead th {\n",
       "        text-align: right;\n",
       "    }\n",
       "</style>\n",
       "<table border=\"1\" class=\"dataframe\">\n",
       "  <thead>\n",
       "    <tr style=\"text-align: right;\">\n",
       "      <th></th>\n",
       "      <th>Employee ID</th>\n",
       "      <th>Name</th>\n",
       "      <th>Gender</th>\n",
       "      <th>doj</th>\n",
       "      <th>Salary</th>\n",
       "      <th>Position</th>\n",
       "      <th>year</th>\n",
       "    </tr>\n",
       "  </thead>\n",
       "  <tbody>\n",
       "    <tr>\n",
       "      <th>0</th>\n",
       "      <td>1</td>\n",
       "      <td>Sam</td>\n",
       "      <td>Male</td>\n",
       "      <td>2024-03-27</td>\n",
       "      <td>202800.0</td>\n",
       "      <td>Software Engineer</td>\n",
       "      <td>2024</td>\n",
       "    </tr>\n",
       "    <tr>\n",
       "      <th>1</th>\n",
       "      <td>2</td>\n",
       "      <td>Raj</td>\n",
       "      <td>Female</td>\n",
       "      <td>2020-05-13</td>\n",
       "      <td>239901.5</td>\n",
       "      <td>HR Specialist</td>\n",
       "      <td>2020</td>\n",
       "    </tr>\n",
       "    <tr>\n",
       "      <th>2</th>\n",
       "      <td>3</td>\n",
       "      <td>Shyam</td>\n",
       "      <td>Male</td>\n",
       "      <td>2023-02-12</td>\n",
       "      <td>223557.0</td>\n",
       "      <td>Analyst</td>\n",
       "      <td>2023</td>\n",
       "    </tr>\n",
       "    <tr>\n",
       "      <th>3</th>\n",
       "      <td>4</td>\n",
       "      <td>Sam</td>\n",
       "      <td>Male</td>\n",
       "      <td>2020-12-14</td>\n",
       "      <td>137910.0</td>\n",
       "      <td>Manager</td>\n",
       "      <td>2020</td>\n",
       "    </tr>\n",
       "    <tr>\n",
       "      <th>4</th>\n",
       "      <td>5</td>\n",
       "      <td>Sam</td>\n",
       "      <td>Male</td>\n",
       "      <td>2022-01-28</td>\n",
       "      <td>262124.1</td>\n",
       "      <td>HR Specialist</td>\n",
       "      <td>2022</td>\n",
       "    </tr>\n",
       "  </tbody>\n",
       "</table>\n",
       "</div>"
      ],
      "text/plain": [
       "   Employee ID   Name  Gender        doj    Salary           Position  year\n",
       "0            1    Sam    Male 2024-03-27  202800.0  Software Engineer  2024\n",
       "1            2    Raj  Female 2020-05-13  239901.5      HR Specialist  2020\n",
       "2            3  Shyam    Male 2023-02-12  223557.0            Analyst  2023\n",
       "3            4    Sam    Male 2020-12-14  137910.0            Manager  2020\n",
       "4            5    Sam    Male 2022-01-28  262124.1      HR Specialist  2022"
      ]
     },
     "execution_count": 28,
     "metadata": {},
     "output_type": "execute_result"
    }
   ],
   "source": [
    "df.loc[df['Position'] == 'Manager', 'Salary'] *= 1.20\n",
    "\n",
    "df.loc[df['Position'] == 'HR Specialist', 'Salary'] *= 1.15\n",
    "\n",
    "df.loc[df['Position'] == 'Software Engineer', 'Salary'] *= 1.25\n",
    "df.head()"
   ]
  },
  {
   "cell_type": "code",
   "execution_count": 34,
   "metadata": {},
   "outputs": [
    {
     "name": "stdout",
     "output_type": "stream",
     "text": [
      "The year with the maximum female joiners is 2023 with 51150 joiners.\n",
      "The year with the maximum male joiners is 2015 with 51072 joiners.\n"
     ]
    },
    {
     "name": "stderr",
     "output_type": "stream",
     "text": [
      "/tmp/ipykernel_78537/1578466462.py:4: SettingWithCopyWarning: \n",
      "A value is trying to be set on a copy of a slice from a DataFrame.\n",
      "Try using .loc[row_indexer,col_indexer] = value instead\n",
      "\n",
      "See the caveats in the documentation: https://pandas.pydata.org/pandas-docs/stable/user_guide/indexing.html#returning-a-view-versus-a-copy\n",
      "  df_males['year'] = df_males['doj'].dt.year\n",
      "/tmp/ipykernel_78537/1578466462.py:6: SettingWithCopyWarning: \n",
      "A value is trying to be set on a copy of a slice from a DataFrame.\n",
      "Try using .loc[row_indexer,col_indexer] = value instead\n",
      "\n",
      "See the caveats in the documentation: https://pandas.pydata.org/pandas-docs/stable/user_guide/indexing.html#returning-a-view-versus-a-copy\n",
      "  df_females['year'] = df_females['doj'].dt.year\n"
     ]
    }
   ],
   "source": [
    "df_females = df[df['Gender'] == 'Female']\n",
    "df_males = df[df['Gender'] == 'Male']\n",
    "\n",
    "df_males['year'] = df_males['doj'].dt.year\n",
    "\n",
    "df_females['year'] = df_females['doj'].dt.year\n",
    "\n",
    "female_joiners_per_year = df_females['year'].value_counts().sort_index()\n",
    "male_joiners_per_year = df_males['year'].value_counts().sort_index()\n",
    "\n",
    "max_female_joiners_year = female_joiners_per_year.idxmax()\n",
    "max_female_joiners_count = female_joiners_per_year.max()\n",
    "max_male_joiners_year = male_joiners_per_year.idxmax()\n",
    "max_male_joiners_count = male_joiners_per_year.max()\n",
    "print(f\"The year with the maximum female joiners is {max_female_joiners_year} with {max_female_joiners_count} joiners.\")\n",
    "print(f\"The year with the maximum male joiners is {max_male_joiners_year} with {max_male_joiners_count} joiners.\")"
   ]
  },
  {
   "cell_type": "code",
   "execution_count": 39,
   "metadata": {},
   "outputs": [
    {
     "data": {
      "text/html": [
       "<div>\n",
       "<style scoped>\n",
       "    .dataframe tbody tr th:only-of-type {\n",
       "        vertical-align: middle;\n",
       "    }\n",
       "\n",
       "    .dataframe tbody tr th {\n",
       "        vertical-align: top;\n",
       "    }\n",
       "\n",
       "    .dataframe thead th {\n",
       "        text-align: right;\n",
       "    }\n",
       "</style>\n",
       "<table border=\"1\" class=\"dataframe\">\n",
       "  <thead>\n",
       "    <tr style=\"text-align: right;\">\n",
       "      <th></th>\n",
       "      <th>Employee ID</th>\n",
       "      <th>Name</th>\n",
       "      <th>Gender</th>\n",
       "      <th>doj</th>\n",
       "      <th>Salary</th>\n",
       "      <th>Position</th>\n",
       "      <th>year</th>\n",
       "      <th>Years in Service</th>\n",
       "    </tr>\n",
       "  </thead>\n",
       "  <tbody>\n",
       "    <tr>\n",
       "      <th>0</th>\n",
       "      <td>1</td>\n",
       "      <td>Sam</td>\n",
       "      <td>Male</td>\n",
       "      <td>2024-03-27</td>\n",
       "      <td>202800.0</td>\n",
       "      <td>Software Engineer</td>\n",
       "      <td>2024</td>\n",
       "      <td>0.68</td>\n",
       "    </tr>\n",
       "    <tr>\n",
       "      <th>1</th>\n",
       "      <td>2</td>\n",
       "      <td>Raj</td>\n",
       "      <td>Female</td>\n",
       "      <td>2020-05-13</td>\n",
       "      <td>239901.5</td>\n",
       "      <td>HR Specialist</td>\n",
       "      <td>2020</td>\n",
       "      <td>4.55</td>\n",
       "    </tr>\n",
       "    <tr>\n",
       "      <th>2</th>\n",
       "      <td>3</td>\n",
       "      <td>Shyam</td>\n",
       "      <td>Male</td>\n",
       "      <td>2023-02-12</td>\n",
       "      <td>223557.0</td>\n",
       "      <td>Analyst</td>\n",
       "      <td>2023</td>\n",
       "      <td>1.80</td>\n",
       "    </tr>\n",
       "    <tr>\n",
       "      <th>3</th>\n",
       "      <td>4</td>\n",
       "      <td>Sam</td>\n",
       "      <td>Male</td>\n",
       "      <td>2020-12-14</td>\n",
       "      <td>137910.0</td>\n",
       "      <td>Manager</td>\n",
       "      <td>2020</td>\n",
       "      <td>3.96</td>\n",
       "    </tr>\n",
       "    <tr>\n",
       "      <th>4</th>\n",
       "      <td>5</td>\n",
       "      <td>Sam</td>\n",
       "      <td>Male</td>\n",
       "      <td>2022-01-28</td>\n",
       "      <td>262124.1</td>\n",
       "      <td>HR Specialist</td>\n",
       "      <td>2022</td>\n",
       "      <td>2.84</td>\n",
       "    </tr>\n",
       "  </tbody>\n",
       "</table>\n",
       "</div>"
      ],
      "text/plain": [
       "   Employee ID   Name  Gender        doj    Salary           Position  year  \\\n",
       "0            1    Sam    Male 2024-03-27  202800.0  Software Engineer  2024   \n",
       "1            2    Raj  Female 2020-05-13  239901.5      HR Specialist  2020   \n",
       "2            3  Shyam    Male 2023-02-12  223557.0            Analyst  2023   \n",
       "3            4    Sam    Male 2020-12-14  137910.0            Manager  2020   \n",
       "4            5    Sam    Male 2022-01-28  262124.1      HR Specialist  2022   \n",
       "\n",
       "   Years in Service  \n",
       "0              0.68  \n",
       "1              4.55  \n",
       "2              1.80  \n",
       "3              3.96  \n",
       "4              2.84  "
      ]
     },
     "execution_count": 39,
     "metadata": {},
     "output_type": "execute_result"
    }
   ],
   "source": [
    "current_date = pd.to_datetime('today')\n",
    "\n",
    "df['Years in Service'] = (current_date - df['doj']).dt.days / 365.25\n",
    "\n",
    "# Optionally, you can round the years to a certain number of decimal places, e.g., 2 decimals:\n",
    "df['Years in Service'] = df['Years in Service'].round(2)\n",
    "df.head()"
   ]
  },
  {
   "cell_type": "code",
   "execution_count": null,
   "metadata": {},
   "outputs": [],
   "source": []
  }
 ],
 "metadata": {
  "kernelspec": {
   "display_name": "Python 3 (ipykernel)",
   "language": "python",
   "name": "python3"
  },
  "language_info": {
   "codemirror_mode": {
    "name": "ipython",
    "version": 3
   },
   "file_extension": ".py",
   "mimetype": "text/x-python",
   "name": "python",
   "nbconvert_exporter": "python",
   "pygments_lexer": "ipython3",
   "version": "3.12.3"
  }
 },
 "nbformat": 4,
 "nbformat_minor": 4
}
